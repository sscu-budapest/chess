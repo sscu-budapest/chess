{
 "cells": [
  {
   "cell_type": "code",
   "execution_count": 2,
   "id": "db95106d",
   "metadata": {},
   "outputs": [],
   "source": [
    "import re\n",
    "\n",
    "import numpy as np\n",
    "import pandas as pd\n",
    "from parquetranger import TableRepo\n",
    "\n",
    "from tqdm.notebook import tqdm\n",
    "\n",
    "from src.lichess import *"
   ]
  },
  {
   "cell_type": "code",
   "execution_count": 3,
   "id": "822c4889",
   "metadata": {},
   "outputs": [
    {
     "name": "stdout",
     "output_type": "stream",
     "text": [
      "2023-11-15 20:43.23 [warning  ] can't get module name, likely due to notebook call\n"
     ]
    }
   ],
   "source": [
    "dza = LichessDza(global_run=True)"
   ]
  },
  {
   "cell_type": "code",
   "execution_count": 4,
   "id": "653140f6",
   "metadata": {},
   "outputs": [
    {
     "name": "stdout",
     "output_type": "stream",
     "text": [
      "2023-11-15 20:43.25 [info     ] pulling 1 status contexts\n",
      "2023-11-15 20:43.25 [info     ] pulling 1 status dbs\n",
      "2023-11-15 20:43.25 [info     ] pulling 1 runs\n"
     ]
    },
    {
     "data": {
      "text/plain": [
       "{'1700076908.1962056-74e83aa87b364cfdf79c'}"
      ]
     },
     "execution_count": 4,
     "metadata": {},
     "output_type": "execute_result"
    }
   ],
   "source": [
    "dza.depot.pull(complete=True)"
   ]
  },
  {
   "cell_type": "code",
   "execution_count": 5,
   "id": "dbadbab1",
   "metadata": {},
   "outputs": [],
   "source": [
    "expandables = [\n",
    "    \"clock\",\n",
    "    \"variant\",\n",
    "    \"perf\",\n",
    "    \"minRating\",\n",
    "    \"maxRating\",\n",
    "    \"minRatedGames\",\n",
    "    \"schedule\",\n",
    "    \"winner\"\n",
    "]"
   ]
  },
  {
   "cell_type": "code",
   "execution_count": 6,
   "id": "feb42db6",
   "metadata": {},
   "outputs": [
    {
     "name": "stdout",
     "output_type": "stream",
     "text": [
      "2023-11-15 20:43.45 [info     ] pulling 0 status contexts\n",
      "2023-11-15 20:43.45 [info     ] pulling 0 status dbs\n",
      "2023-11-15 20:43.45 [info     ] pulling 0 runs\n"
     ]
    }
   ],
   "source": [
    "tournament_df = (\n",
    "    pd.concat(\n",
    "        map(\n",
    "            lambda e: pd.DataFrame(e.content),\n",
    "            dza.get_all_events(GetTournaments, only_latest=False),\n",
    "        ),\n",
    "        ignore_index=True,\n",
    "    )\n",
    "    .drop_duplicates(subset=\"id\", ignore_index=True)\n",
    "    .drop([\"status\"], axis=1)\n",
    "    .reset_index(drop=True)\n",
    "    .pipe(\n",
    "        lambda df: pd.concat(\n",
    "            [\n",
    "                df.drop(expandables, axis=1),\n",
    "                *[\n",
    "                    pd.DataFrame(\n",
    "                        df[c].fillna(\"\").apply(lambda e: e or {}).tolist()\n",
    "                    ).rename(columns=lambda s: f\"{c}__{s}\")\n",
    "                    for c in expandables\n",
    "                ],\n",
    "            ],\n",
    "            axis=1,\n",
    "        )\n",
    "    )\n",
    "    .set_index(\"id\")\n",
    ")"
   ]
  },
  {
   "cell_type": "code",
   "execution_count": 7,
   "id": "d4bc5c34",
   "metadata": {},
   "outputs": [
    {
     "data": {
      "text/plain": [
       "<Axes: >"
      ]
     },
     "execution_count": 7,
     "metadata": {},
     "output_type": "execute_result"
    },
    {
     "data": {
      "image/png": "[encoded data removed]",
      "text/plain": [
       "<Figure size 432x288 with 1 Axes>"
      ]
     },
     "metadata": {
      "needs_background": "light"
     },
     "output_type": "display_data"
    }
   ],
   "source": [
    "tournament_df[\"startsAt\"].pipe(pd.to_datetime, unit=\"ms\").hist()"
   ]
  },
  {
   "cell_type": "code",
   "execution_count": 8,
   "id": "f4ad9eec",
   "metadata": {},
   "outputs": [
    {
     "data": {
      "text/plain": [
       "count    20930.000000\n",
       "mean       206.612136\n",
       "std        230.014733\n",
       "min          5.000000\n",
       "25%         61.000000\n",
       "50%        124.000000\n",
       "75%        273.000000\n",
       "max       2471.000000\n",
       "Name: nbPlayers, dtype: float64"
      ]
     },
     "execution_count": 8,
     "metadata": {},
     "output_type": "execute_result"
    }
   ],
   "source": [
    "tournament_df[\"nbPlayers\"].describe()"
   ]
  },
  {
   "cell_type": "code",
   "execution_count": 9,
   "id": "93b6cff0",
   "metadata": {
    "scrolled": false
   },
   "outputs": [],
   "source": [
    "tournament_sample = tournament_df.loc[\n",
    "    lambda df: (df[\"variant__key\"] == \"standard\") & (df[\"nbPlayers\"] > 350)\n",
    "]"
   ]
  },
  {
   "cell_type": "code",
   "execution_count": 10,
   "id": "a81dcfc5",
   "metadata": {},
   "outputs": [
    {
     "data": {
      "text/plain": [
       "<Axes: >"
      ]
     },
     "execution_count": 10,
     "metadata": {},
     "output_type": "execute_result"
    },
    {
     "data": {
      "image/png": "[encoded data removed]",
      "text/plain": [
       "<Figure size 432x288 with 1 Axes>"
      ]
     },
     "metadata": {
      "needs_background": "light"
     },
     "output_type": "display_data"
    }
   ],
   "source": [
    "tournament_sample[\"startsAt\"].pipe(pd.to_datetime, unit=\"ms\").hist()"
   ]
  },
  {
   "cell_type": "code",
   "execution_count": 11,
   "id": "4c10d49b",
   "metadata": {},
   "outputs": [],
   "source": [
    "game_trepo = TableRepo(dz.get_raw_data_path(\"tournament-games.parquet\"))\n",
    "game_trepo.purge()"
   ]
  },
  {
   "cell_type": "code",
   "execution_count": 13,
   "id": "07cc6680",
   "metadata": {},
   "outputs": [],
   "source": [
    "def extend_games(tour_k, pgn_string):\n",
    "    meta_records = []\n",
    "    for game_str in pgn_string.decode().strip().split(\"\\n\\n\\n\"):\n",
    "        meta, moves = game_str.split(\"\\n\\n\")\n",
    "\n",
    "        meta_records.append(\n",
    "            {\"tournamentId\": tour_k}\n",
    "            | dict(re.findall('\\[([a-z|A-Z]+) \"(.*)\"\\]', meta))\n",
    "            | dict(\n",
    "                zip(\n",
    "                    [\"WhiteStart\", \"BlackStart\", \"WhiteM1\", \"BlackM1\"],\n",
    "                    re.findall(\"\\[%clk ([\\d|\\:]+)\\]\", moves)[:4],\n",
    "                )\n",
    "            )\n",
    "        )\n",
    "    return meta_records\n",
    "    #game_trepo.extend(pd.DataFrame(meta_records))"
   ]
  },
  {
   "cell_type": "code",
   "execution_count": 14,
   "id": "9ce029fb",
   "metadata": {},
   "outputs": [
    {
     "data": {
      "application/vnd.jupyter.widget-view+json": {
       "model_id": "b5756221f4e1412891b20e6aac43898e",
       "version_major": 2,
       "version_minor": 0
      },
      "text/plain": [
       "0it [00:00, ?it/s]"
      ]
     },
     "metadata": {},
     "output_type": "display_data"
    }
   ],
   "source": [
    "all_recs = []\n",
    "for el in tqdm(dza.get_all_events(GetTournamentGames)):\n",
    "    tour_id = el.url.split(\"/\")[-2]\n",
    "    if tour_id in tournament_sample.index:\n",
    "        all_recs += extend_games(tour_id, el.content)\n"
   ]
  },
  {
   "cell_type": "code",
   "execution_count": 15,
   "id": "07ef174e",
   "metadata": {},
   "outputs": [],
   "source": [
    "pd.DataFrame(all_recs).pipe(game_trepo.extend)"
   ]
  },
  {
   "cell_type": "code",
   "execution_count": 16,
   "id": "986a1288",
   "metadata": {},
   "outputs": [],
   "source": [
    "tournament_sample.to_parquet(dz.get_raw_data_path(\"tournament-sample.parquet\"))"
   ]
  }
 ],
 "metadata": {
  "kernelspec": {
   "display_name": "Python 3 (ipykernel)",
   "language": "python",
   "name": "python3"
  },
  "language_info": {
   "codemirror_mode": {
    "name": "ipython",
    "version": 3
   },
   "file_extension": ".py",
   "mimetype": "text/x-python",
   "name": "python",
   "nbconvert_exporter": "python",
   "pygments_lexer": "ipython3",
   "version": "3.10.12"
  }
 },
 "nbformat": 4,
 "nbformat_minor": 5
}
